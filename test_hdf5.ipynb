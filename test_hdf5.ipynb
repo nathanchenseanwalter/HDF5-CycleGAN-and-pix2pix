{
 "cells": [
  {
   "cell_type": "code",
   "execution_count": null,
   "metadata": {},
   "outputs": [],
   "source": [
    "import os\n",
    "from options.test_options import TestOptions\n",
    "from data import create_dataset\n",
    "from models import create_model\n",
    "import matplotlib.pyplot as plt"
   ]
  },
  {
   "cell_type": "code",
   "execution_count": null,
   "metadata": {},
   "outputs": [],
   "source": [
    "class TestOptions:\n",
    "    def __init__(self):\n",
    "        self.phase = 'test'\n",
    "        self.dataroot = 'tv_synth.h5'\n",
    "        self.input_nc = 1\n",
    "        self.output_nc = 1\n",
    "        self.direction = 'AtoB'\n",
    "        self.dataset_mode = 'hdf5'\n",
    "        self.batch_size = 1\n",
    "        self.serial_batches = True\n",
    "        self.num_threads = 0\n",
    "        self.max_dataset_size = float(\"inf\")\n",
    "        self.model = 'pix2pix'\n",
    "        self.gpu_ids = 0\n",
    "        self.isTrain = False\n",
    "        \n",
    "opt = TestOptions()"
   ]
  },
  {
   "cell_type": "code",
   "execution_count": null,
   "metadata": {},
   "outputs": [],
   "source": [
    "dataset = create_dataset(opt)"
   ]
  },
  {
   "cell_type": "code",
   "execution_count": null,
   "metadata": {},
   "outputs": [],
   "source": [
    "print(len(dataset))"
   ]
  },
  {
   "cell_type": "code",
   "execution_count": null,
   "metadata": {},
   "outputs": [],
   "source": [
    "for data in dataset:\n",
    "    _ = input()\n",
    "    a = plt.subplot(1,2,1)\n",
    "    a.imshow(data['A'][0][0])\n",
    "    b = plt.subplot(1,2,2)\n",
    "    b.imshow(data['B'][0][0])\n",
    "    plt.show()"
   ]
  }
 ],
 "metadata": {
  "kernelspec": {
   "display_name": "pytorch-CycleGAN-and-pix2pix",
   "language": "python",
   "name": "python3"
  },
  "language_info": {
   "codemirror_mode": {
    "name": "ipython",
    "version": 3
   },
   "file_extension": ".py",
   "mimetype": "text/x-python",
   "name": "python",
   "nbconvert_exporter": "python",
   "pygments_lexer": "ipython3",
   "version": "3.11.5"
  }
 },
 "nbformat": 4,
 "nbformat_minor": 2
}
